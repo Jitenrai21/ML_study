{
 "cells": [
  {
   "cell_type": "markdown",
   "id": "4b674915-050a-4eb4-9fad-cfdb8ea60743",
   "metadata": {},
   "source": [
    "# 14 Feature Selection"
   ]
  },
  {
   "cell_type": "markdown",
   "id": "c105f8c7-0db4-4af5-82c6-dfb2837408ee",
   "metadata": {},
   "source": [
    "# Feature selection requires knowledge of domain.\n",
    "# There are non important features, important features, and features that can be obtained from merging two diff. features"
   ]
  },
  {
   "cell_type": "code",
   "execution_count": 6,
   "id": "06fb6bfe-f3a6-4f63-b73e-8f04e9919eb9",
   "metadata": {},
   "outputs": [],
   "source": [
    "# !pip install mlxtend\n",
    "import pandas as pd\n",
    "from mlxtend.feature_selection import SequentialFeatureSelector"
   ]
  },
  {
   "cell_type": "code",
   "execution_count": 7,
   "id": "ac9ca390-12d0-47ca-824b-0168ac32b15e",
   "metadata": {},
   "outputs": [],
   "source": [
    "dataset = pd.read_csv('diabetes.csv')"
   ]
  },
  {
   "cell_type": "code",
   "execution_count": 8,
   "id": "94e8a3db-cf37-4783-90cd-4e3d72cbdeb4",
   "metadata": {},
   "outputs": [
    {
     "data": {
      "text/html": [
       "<div>\n",
       "<style scoped>\n",
       "    .dataframe tbody tr th:only-of-type {\n",
       "        vertical-align: middle;\n",
       "    }\n",
       "\n",
       "    .dataframe tbody tr th {\n",
       "        vertical-align: top;\n",
       "    }\n",
       "\n",
       "    .dataframe thead th {\n",
       "        text-align: right;\n",
       "    }\n",
       "</style>\n",
       "<table border=\"1\" class=\"dataframe\">\n",
       "  <thead>\n",
       "    <tr style=\"text-align: right;\">\n",
       "      <th></th>\n",
       "      <th>Pregnancies</th>\n",
       "      <th>Glucose</th>\n",
       "      <th>BloodPressure</th>\n",
       "      <th>SkinThickness</th>\n",
       "      <th>Insulin</th>\n",
       "      <th>BMI</th>\n",
       "      <th>DiabetesPedigreeFunction</th>\n",
       "      <th>Age</th>\n",
       "      <th>Outcome</th>\n",
       "    </tr>\n",
       "  </thead>\n",
       "  <tbody>\n",
       "    <tr>\n",
       "      <th>0</th>\n",
       "      <td>6</td>\n",
       "      <td>148</td>\n",
       "      <td>72</td>\n",
       "      <td>35</td>\n",
       "      <td>0</td>\n",
       "      <td>33.6</td>\n",
       "      <td>0.627</td>\n",
       "      <td>50</td>\n",
       "      <td>1</td>\n",
       "    </tr>\n",
       "    <tr>\n",
       "      <th>1</th>\n",
       "      <td>1</td>\n",
       "      <td>85</td>\n",
       "      <td>66</td>\n",
       "      <td>29</td>\n",
       "      <td>0</td>\n",
       "      <td>26.6</td>\n",
       "      <td>0.351</td>\n",
       "      <td>31</td>\n",
       "      <td>0</td>\n",
       "    </tr>\n",
       "    <tr>\n",
       "      <th>2</th>\n",
       "      <td>8</td>\n",
       "      <td>183</td>\n",
       "      <td>64</td>\n",
       "      <td>0</td>\n",
       "      <td>0</td>\n",
       "      <td>23.3</td>\n",
       "      <td>0.672</td>\n",
       "      <td>32</td>\n",
       "      <td>1</td>\n",
       "    </tr>\n",
       "    <tr>\n",
       "      <th>3</th>\n",
       "      <td>1</td>\n",
       "      <td>89</td>\n",
       "      <td>66</td>\n",
       "      <td>23</td>\n",
       "      <td>94</td>\n",
       "      <td>28.1</td>\n",
       "      <td>0.167</td>\n",
       "      <td>21</td>\n",
       "      <td>0</td>\n",
       "    </tr>\n",
       "    <tr>\n",
       "      <th>4</th>\n",
       "      <td>0</td>\n",
       "      <td>137</td>\n",
       "      <td>40</td>\n",
       "      <td>35</td>\n",
       "      <td>168</td>\n",
       "      <td>43.1</td>\n",
       "      <td>2.288</td>\n",
       "      <td>33</td>\n",
       "      <td>1</td>\n",
       "    </tr>\n",
       "  </tbody>\n",
       "</table>\n",
       "</div>"
      ],
      "text/plain": [
       "   Pregnancies  Glucose  BloodPressure  SkinThickness  Insulin   BMI  \\\n",
       "0            6      148             72             35        0  33.6   \n",
       "1            1       85             66             29        0  26.6   \n",
       "2            8      183             64              0        0  23.3   \n",
       "3            1       89             66             23       94  28.1   \n",
       "4            0      137             40             35      168  43.1   \n",
       "\n",
       "   DiabetesPedigreeFunction  Age  Outcome  \n",
       "0                     0.627   50        1  \n",
       "1                     0.351   31        0  \n",
       "2                     0.672   32        1  \n",
       "3                     0.167   21        0  \n",
       "4                     2.288   33        1  "
      ]
     },
     "execution_count": 8,
     "metadata": {},
     "output_type": "execute_result"
    }
   ],
   "source": [
    "dataset.head()"
   ]
  },
  {
   "cell_type": "code",
   "execution_count": 13,
   "id": "e0d7d515-9e91-464d-ad6d-a10a048a1a78",
   "metadata": {},
   "outputs": [
    {
     "data": {
      "text/plain": [
       "(768, 8)"
      ]
     },
     "execution_count": 13,
     "metadata": {},
     "output_type": "execute_result"
    }
   ],
   "source": [
    "x = dataset.drop(columns=['Outcome'])\n",
    "y = dataset['Outcome']\n",
    "x.shape"
   ]
  },
  {
   "cell_type": "code",
   "execution_count": 10,
   "id": "fceb8b6c-21a8-4519-b244-3eecc3047735",
   "metadata": {},
   "outputs": [],
   "source": [
    "from sklearn.linear_model import LogisticRegression\n"
   ]
  },
  {
   "cell_type": "code",
   "execution_count": 11,
   "id": "38aad61e-1716-44f4-b15d-ac59990f2feb",
   "metadata": {},
   "outputs": [],
   "source": [
    "lr = LogisticRegression()"
   ]
  },
  {
   "cell_type": "code",
   "execution_count": 22,
   "id": "d2ba1e42-1405-49c3-b0c5-dffb210c7e72",
   "metadata": {},
   "outputs": [],
   "source": [
    "fs = SequentialFeatureSelector(lr, k_features=8, forward = True) # k_features given from shape\n",
    "# fs.fit(x,y)"
   ]
  },
  {
   "cell_type": "code",
   "execution_count": 16,
   "id": "f4cbe169-965a-4881-a478-fd0e7e53353e",
   "metadata": {},
   "outputs": [
    {
     "data": {
      "text/plain": [
       "['Pregnancies',\n",
       " 'Glucose',\n",
       " 'BloodPressure',\n",
       " 'SkinThickness',\n",
       " 'Insulin',\n",
       " 'BMI',\n",
       " 'DiabetesPedigreeFunction',\n",
       " 'Age']"
      ]
     },
     "execution_count": 16,
     "metadata": {},
     "output_type": "execute_result"
    }
   ],
   "source": [
    "fs.feature_names"
   ]
  },
  {
   "cell_type": "code",
   "execution_count": 17,
   "id": "b894214e-9c91-4c3f-950d-33a55bef05f9",
   "metadata": {},
   "outputs": [
    {
     "data": {
      "text/plain": [
       "('Pregnancies',\n",
       " 'Glucose',\n",
       " 'BloodPressure',\n",
       " 'SkinThickness',\n",
       " 'Insulin',\n",
       " 'BMI',\n",
       " 'DiabetesPedigreeFunction',\n",
       " 'Age')"
      ]
     },
     "execution_count": 17,
     "metadata": {},
     "output_type": "execute_result"
    }
   ],
   "source": [
    "fs.k_feature_names_"
   ]
  },
  {
   "cell_type": "code",
   "execution_count": 18,
   "id": "31fe5ca6-4bb9-40f9-82c9-3ab887d22dc0",
   "metadata": {},
   "outputs": [
    {
     "data": {
      "text/plain": [
       "0.7695696460402341"
      ]
     },
     "execution_count": 18,
     "metadata": {},
     "output_type": "execute_result"
    }
   ],
   "source": [
    "fs.k_score_"
   ]
  },
  {
   "cell_type": "code",
   "execution_count": 23,
   "id": "803b6dc0-7160-4c04-8334-61c8575604f1",
   "metadata": {},
   "outputs": [],
   "source": [
    "# fs = SequentialFeatureSelector(lr, k_features=7, forward = True)\n",
    "# fs.fit(x,y)\n",
    "# fs.k_feature_idx_\n",
    "# fs.k_score_  //output 0.77"
   ]
  },
  {
   "cell_type": "code",
   "execution_count": 25,
   "id": "fe699f1b-f3d6-4a3b-8e7d-cf7951e6c161",
   "metadata": {},
   "outputs": [],
   "source": [
    "# fs = SequentialFeatureSelector(lr, k_features=6, forward = True)\n",
    "# fs.fit(x,y)\n",
    "# fs.k_score_ // 0.7747"
   ]
  },
  {
   "cell_type": "code",
   "execution_count": null,
   "id": "d3757475-7e4b-4205-a445-b4d7ef8c36e1",
   "metadata": {},
   "outputs": [],
   "source": [
    "# fs = SequentialFeatureSelector(lr, k_features=8, backward = True)\n",
    "# fs.fit(x,y)\n",
    "# fs.k_score_"
   ]
  }
 ],
 "metadata": {
  "kernelspec": {
   "display_name": "Python 3 (ipykernel)",
   "language": "python",
   "name": "python3"
  },
  "language_info": {
   "codemirror_mode": {
    "name": "ipython",
    "version": 3
   },
   "file_extension": ".py",
   "mimetype": "text/x-python",
   "name": "python",
   "nbconvert_exporter": "python",
   "pygments_lexer": "ipython3",
   "version": "3.13.1"
  }
 },
 "nbformat": 4,
 "nbformat_minor": 5
}
