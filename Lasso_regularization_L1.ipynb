{
 "cells": [
  {
   "cell_type": "markdown",
   "id": "450dbfe4-41ac-4750-a0c5-440582b393d5",
   "metadata": {},
   "source": [
    "# Regularization is a form of regression that regularizes or shrinks the coefficient estimates towards zero. Avoids the risk of overfitting."
   ]
  },
  {
   "cell_type": "code",
   "execution_count": 1,
   "id": "84608b67-21bc-4c09-b4f3-da16ad084f4f",
   "metadata": {},
   "outputs": [],
   "source": [
    "# Lasso regularization is used in feature selection using shrinkage method.\n",
    "# Lasso regression magnitude of coefs can be exactly zero."
   ]
  },
  {
   "cell_type": "code",
   "execution_count": null,
   "id": "efc92e35-97d3-4671-8916-91de989b77b2",
   "metadata": {},
   "outputs": [],
   "source": []
  }
 ],
 "metadata": {
  "kernelspec": {
   "display_name": "Python 3 (ipykernel)",
   "language": "python",
   "name": "python3"
  },
  "language_info": {
   "codemirror_mode": {
    "name": "ipython",
    "version": 3
   },
   "file_extension": ".py",
   "mimetype": "text/x-python",
   "name": "python",
   "nbconvert_exporter": "python",
   "pygments_lexer": "ipython3",
   "version": "3.12.4"
  }
 },
 "nbformat": 4,
 "nbformat_minor": 5
}
