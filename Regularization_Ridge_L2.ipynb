{
 "cells": [
  {
   "cell_type": "code",
   "execution_count": 1,
   "id": "d611d5ff-352d-4bb4-93f4-0657a237c29d",
   "metadata": {},
   "outputs": [],
   "source": [
    "# Ridge regularization also L2 is an extension to linear regression \n",
    "# that introduces a regularization term to reduce model complexity and help prevent overfitting\n",
    "# working value / Magnitude of coefs is almost zero."
   ]
  },
  {
   "cell_type": "code",
   "execution_count": 3,
   "id": "f13f8528-b01c-4142-8921-4950ed6c5fa5",
   "metadata": {},
   "outputs": [],
   "source": [
    "import pandas as pd\n",
    "import matplotlib.pyplot as plt\n",
    "import seaborn as sns\n",
    "from sklearn.preprocessing import StandardScaler\n",
    "from sklearn.model_selection import train_test_split"
   ]
  },
  {
   "cell_type": "code",
   "execution_count": 4,
   "id": "d39601f0-2005-48b8-9d5a-25ef6f6ebd41",
   "metadata": {},
   "outputs": [
    {
     "data": {
      "text/html": [
       "<div>\n",
       "<style scoped>\n",
       "    .dataframe tbody tr th:only-of-type {\n",
       "        vertical-align: middle;\n",
       "    }\n",
       "\n",
       "    .dataframe tbody tr th {\n",
       "        vertical-align: top;\n",
       "    }\n",
       "\n",
       "    .dataframe thead th {\n",
       "        text-align: right;\n",
       "    }\n",
       "</style>\n",
       "<table border=\"1\" class=\"dataframe\">\n",
       "  <thead>\n",
       "    <tr style=\"text-align: right;\">\n",
       "      <th></th>\n",
       "      <th>Price</th>\n",
       "      <th>Living Area</th>\n",
       "      <th>Bathrooms</th>\n",
       "      <th>Bedrooms</th>\n",
       "      <th>Lot Size</th>\n",
       "      <th>Age</th>\n",
       "      <th>Fireplace</th>\n",
       "    </tr>\n",
       "  </thead>\n",
       "  <tbody>\n",
       "    <tr>\n",
       "      <th>0</th>\n",
       "      <td>142212</td>\n",
       "      <td>1982</td>\n",
       "      <td>1.0</td>\n",
       "      <td>3</td>\n",
       "      <td>2.00</td>\n",
       "      <td>133</td>\n",
       "      <td>0</td>\n",
       "    </tr>\n",
       "    <tr>\n",
       "      <th>1</th>\n",
       "      <td>134865</td>\n",
       "      <td>1676</td>\n",
       "      <td>1.5</td>\n",
       "      <td>3</td>\n",
       "      <td>0.38</td>\n",
       "      <td>14</td>\n",
       "      <td>1</td>\n",
       "    </tr>\n",
       "    <tr>\n",
       "      <th>2</th>\n",
       "      <td>118007</td>\n",
       "      <td>1694</td>\n",
       "      <td>2.0</td>\n",
       "      <td>3</td>\n",
       "      <td>0.96</td>\n",
       "      <td>15</td>\n",
       "      <td>1</td>\n",
       "    </tr>\n",
       "  </tbody>\n",
       "</table>\n",
       "</div>"
      ],
      "text/plain": [
       "    Price  Living Area  Bathrooms  Bedrooms  Lot Size  Age  Fireplace\n",
       "0  142212         1982        1.0         3      2.00  133          0\n",
       "1  134865         1676        1.5         3      0.38   14          1\n",
       "2  118007         1694        2.0         3      0.96   15          1"
      ]
     },
     "execution_count": 4,
     "metadata": {},
     "output_type": "execute_result"
    }
   ],
   "source": [
    "dataset = pd.read_csv('houseprices.csv')\n",
    "dataset.head(3)"
   ]
  },
  {
   "cell_type": "code",
   "execution_count": 5,
   "id": "29d040dd-8160-4bba-9435-209a55639190",
   "metadata": {},
   "outputs": [],
   "source": [
    "x= dataset.drop(columns = ['Price'])\n",
    "y= dataset['Price']"
   ]
  },
  {
   "cell_type": "code",
   "execution_count": 6,
   "id": "1af77115-a0b2-46b0-9b35-c533b289527a",
   "metadata": {},
   "outputs": [
    {
     "data": {
      "text/html": [
       "<div>\n",
       "<style scoped>\n",
       "    .dataframe tbody tr th:only-of-type {\n",
       "        vertical-align: middle;\n",
       "    }\n",
       "\n",
       "    .dataframe tbody tr th {\n",
       "        vertical-align: top;\n",
       "    }\n",
       "\n",
       "    .dataframe thead th {\n",
       "        text-align: right;\n",
       "    }\n",
       "</style>\n",
       "<table border=\"1\" class=\"dataframe\">\n",
       "  <thead>\n",
       "    <tr style=\"text-align: right;\">\n",
       "      <th></th>\n",
       "      <th>Living Area</th>\n",
       "      <th>Bathrooms</th>\n",
       "      <th>Bedrooms</th>\n",
       "      <th>Lot Size</th>\n",
       "      <th>Age</th>\n",
       "      <th>Fireplace</th>\n",
       "    </tr>\n",
       "  </thead>\n",
       "  <tbody>\n",
       "    <tr>\n",
       "      <th>0</th>\n",
       "      <td>0.272473</td>\n",
       "      <td>-1.431707</td>\n",
       "      <td>-0.244539</td>\n",
       "      <td>1.839752</td>\n",
       "      <td>3.008204</td>\n",
       "      <td>-1.207372</td>\n",
       "    </tr>\n",
       "    <tr>\n",
       "      <th>1</th>\n",
       "      <td>-0.204791</td>\n",
       "      <td>-0.652197</td>\n",
       "      <td>-0.244539</td>\n",
       "      <td>-0.243830</td>\n",
       "      <td>-0.403080</td>\n",
       "      <td>0.828245</td>\n",
       "    </tr>\n",
       "    <tr>\n",
       "      <th>2</th>\n",
       "      <td>-0.176717</td>\n",
       "      <td>0.127313</td>\n",
       "      <td>-0.244539</td>\n",
       "      <td>0.502144</td>\n",
       "      <td>-0.374414</td>\n",
       "      <td>0.828245</td>\n",
       "    </tr>\n",
       "    <tr>\n",
       "      <th>3</th>\n",
       "      <td>-0.011390</td>\n",
       "      <td>-1.431707</td>\n",
       "      <td>-1.578038</td>\n",
       "      <td>-0.115214</td>\n",
       "      <td>0.600239</td>\n",
       "      <td>0.828245</td>\n",
       "    </tr>\n",
       "    <tr>\n",
       "      <th>4</th>\n",
       "      <td>0.437800</td>\n",
       "      <td>-1.431707</td>\n",
       "      <td>-0.244539</td>\n",
       "      <td>1.633966</td>\n",
       "      <td>0.026914</td>\n",
       "      <td>0.828245</td>\n",
       "    </tr>\n",
       "    <tr>\n",
       "      <th>...</th>\n",
       "      <td>...</td>\n",
       "      <td>...</td>\n",
       "      <td>...</td>\n",
       "      <td>...</td>\n",
       "      <td>...</td>\n",
       "      <td>...</td>\n",
       "    </tr>\n",
       "    <tr>\n",
       "      <th>1042</th>\n",
       "      <td>-0.008271</td>\n",
       "      <td>0.127313</td>\n",
       "      <td>1.088961</td>\n",
       "      <td>0.515005</td>\n",
       "      <td>0.800903</td>\n",
       "      <td>0.828245</td>\n",
       "    </tr>\n",
       "    <tr>\n",
       "      <th>1043</th>\n",
       "      <td>2.232999</td>\n",
       "      <td>2.465842</td>\n",
       "      <td>1.088961</td>\n",
       "      <td>2.482833</td>\n",
       "      <td>-0.775741</td>\n",
       "      <td>0.828245</td>\n",
       "    </tr>\n",
       "    <tr>\n",
       "      <th>1044</th>\n",
       "      <td>-0.572877</td>\n",
       "      <td>0.127313</td>\n",
       "      <td>-1.578038</td>\n",
       "      <td>0.051987</td>\n",
       "      <td>1.087565</td>\n",
       "      <td>0.828245</td>\n",
       "    </tr>\n",
       "    <tr>\n",
       "      <th>1045</th>\n",
       "      <td>0.347338</td>\n",
       "      <td>0.906822</td>\n",
       "      <td>-0.244539</td>\n",
       "      <td>0.553590</td>\n",
       "      <td>-0.718409</td>\n",
       "      <td>0.828245</td>\n",
       "    </tr>\n",
       "    <tr>\n",
       "      <th>1046</th>\n",
       "      <td>0.451837</td>\n",
       "      <td>0.906822</td>\n",
       "      <td>-0.244539</td>\n",
       "      <td>1.749720</td>\n",
       "      <td>-0.517745</td>\n",
       "      <td>0.828245</td>\n",
       "    </tr>\n",
       "  </tbody>\n",
       "</table>\n",
       "<p>1047 rows × 6 columns</p>\n",
       "</div>"
      ],
      "text/plain": [
       "      Living Area  Bathrooms  Bedrooms  Lot Size       Age  Fireplace\n",
       "0        0.272473  -1.431707 -0.244539  1.839752  3.008204  -1.207372\n",
       "1       -0.204791  -0.652197 -0.244539 -0.243830 -0.403080   0.828245\n",
       "2       -0.176717   0.127313 -0.244539  0.502144 -0.374414   0.828245\n",
       "3       -0.011390  -1.431707 -1.578038 -0.115214  0.600239   0.828245\n",
       "4        0.437800  -1.431707 -0.244539  1.633966  0.026914   0.828245\n",
       "...           ...        ...       ...       ...       ...        ...\n",
       "1042    -0.008271   0.127313  1.088961  0.515005  0.800903   0.828245\n",
       "1043     2.232999   2.465842  1.088961  2.482833 -0.775741   0.828245\n",
       "1044    -0.572877   0.127313 -1.578038  0.051987  1.087565   0.828245\n",
       "1045     0.347338   0.906822 -0.244539  0.553590 -0.718409   0.828245\n",
       "1046     0.451837   0.906822 -0.244539  1.749720 -0.517745   0.828245\n",
       "\n",
       "[1047 rows x 6 columns]"
      ]
     },
     "execution_count": 6,
     "metadata": {},
     "output_type": "execute_result"
    }
   ],
   "source": [
    "sc = StandardScaler()\n",
    "sc.fit(x)\n",
    "x = pd.DataFrame(sc.transform(x), columns = x.columns)\n",
    "x"
   ]
  },
  {
   "cell_type": "code",
   "execution_count": 7,
   "id": "8aca9b2c-950c-4642-a828-c7c76d6f9eb6",
   "metadata": {},
   "outputs": [],
   "source": [
    "x_train, x_test, y_train, y_test = train_test_split(x,y, test_size=0.2, random_state=42)"
   ]
  },
  {
   "cell_type": "code",
   "execution_count": 8,
   "id": "e0eb3ac7-923a-4aa1-832a-aa209bb0120d",
   "metadata": {},
   "outputs": [],
   "source": [
    "from sklearn.linear_model import LinearRegression, Lasso, Ridge"
   ]
  },
  {
   "cell_type": "code",
   "execution_count": 9,
   "id": "9ebc2d50-06ec-424f-ab72-ca016d3b3901",
   "metadata": {},
   "outputs": [
    {
     "data": {
      "text/plain": [
       "64.711642199859"
      ]
     },
     "execution_count": 9,
     "metadata": {},
     "output_type": "execute_result"
    }
   ],
   "source": [
    "ri = Ridge(alpha = 10)\n",
    "ri.fit(x_train, y_train)\n",
    "ri.score(x_test, y_test) * 100"
   ]
  },
  {
   "cell_type": "code",
   "execution_count": 10,
   "id": "c4efa86d-eda0-41ae-b4fe-45fddce1c8de",
   "metadata": {},
   "outputs": [
    {
     "data": {
      "image/png": "[encoded data removed]",
      "text/plain": [
       "<Figure size 640x480 with 1 Axes>"
      ]
     },
     "metadata": {},
     "output_type": "display_data"
    }
   ],
   "source": [
    "plt.bar(x.columns, ri.coef_)\n",
    "plt.title('Ridge')\n",
    "plt.xlabel('Columns')\n",
    "plt.ylabel('Coef')\n",
    "plt.show()"
   ]
  },
  {
   "cell_type": "code",
   "execution_count": 11,
   "id": "afc30cbb-5502-4b2b-bbef-851f5823e007",
   "metadata": {},
   "outputs": [
    {
     "name": "stdout",
     "output_type": "stream",
     "text": [
      "1741451575.347286\n",
      "28751.909567060462\n",
      "41730.70302963138\n"
     ]
    }
   ],
   "source": [
    "# for Ridge\n",
    "from sklearn.metrics import mean_absolute_error, mean_squared_error\n",
    "import numpy as np\n",
    "print(mean_squared_error(y_test, ri.predict(x_test)))\n",
    "print(mean_absolute_error(y_test, ri.predict(x_test)))\n",
    "print(np.sqrt(mean_squared_error(y_test, ri.predict(x_test))))  # root mse"
   ]
  },
  {
   "cell_type": "code",
   "execution_count": null,
   "id": "30667841-0e79-4c24-a280-591f45e07081",
   "metadata": {},
   "outputs": [],
   "source": []
  }
 ],
 "metadata": {
  "kernelspec": {
   "display_name": "Python 3 (ipykernel)",
   "language": "python",
   "name": "python3"
  },
  "language_info": {
   "codemirror_mode": {
    "name": "ipython",
    "version": 3
   },
   "file_extension": ".py",
   "mimetype": "text/x-python",
   "name": "python",
   "nbconvert_exporter": "python",
   "pygments_lexer": "ipython3",
   "version": "3.12.4"
  }
 },
 "nbformat": 4,
 "nbformat_minor": 5
}
