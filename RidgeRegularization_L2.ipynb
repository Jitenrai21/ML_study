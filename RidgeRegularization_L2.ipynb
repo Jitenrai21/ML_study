{
 "cells": [
  {
   "cell_type": "code",
   "execution_count": 2,
   "id": "d611d5ff-352d-4bb4-93f4-0657a237c29d",
   "metadata": {},
   "outputs": [],
   "source": [
    "# Ridge regularization also L2 is an extension to linear ref=gression \n",
    "# that introduces a regularization term to reduce model complexity and help prevent overfitting\n",
    "# working value / Magnitude of coefs is almost zero."
   ]
  },
  {
   "cell_type": "code",
   "execution_count": null,
   "id": "f13f8528-b01c-4142-8921-4950ed6c5fa5",
   "metadata": {},
   "outputs": [],
   "source": []
  }
 ],
 "metadata": {
  "kernelspec": {
   "display_name": "Python 3 (ipykernel)",
   "language": "python",
   "name": "python3"
  },
  "language_info": {
   "codemirror_mode": {
    "name": "ipython",
    "version": 3
   },
   "file_extension": ".py",
   "mimetype": "text/x-python",
   "name": "python",
   "nbconvert_exporter": "python",
   "pygments_lexer": "ipython3",
   "version": "3.12.4"
  }
 },
 "nbformat": 4,
 "nbformat_minor": 5
}
